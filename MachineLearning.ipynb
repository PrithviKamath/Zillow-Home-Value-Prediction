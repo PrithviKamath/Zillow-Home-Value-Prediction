{
 "cells": [
  {
   "cell_type": "code",
   "execution_count": 1,
   "metadata": {
    "collapsed": true
   },
   "outputs": [],
   "source": [
    "import pandas as pd\n",
    "import numpy as np\n",
    "import os\n",
    "import re\n",
    "import random\n",
    "import datetime\n",
    "import matplotlib.pyplot as plt\n",
    "from sklearn.ensemble import RandomForestRegressor\n",
    "from sklearn.model_selection import GridSearchCV"
   ]
  },
  {
   "cell_type": "code",
   "execution_count": 2,
   "metadata": {
    "collapsed": true
   },
   "outputs": [],
   "source": [
    "random.seed(3)  #To make the randomization reproducible\n",
    "pd.options.mode.chained_assignment = None  #To turn off specific warnings"
   ]
  },
  {
   "cell_type": "code",
   "execution_count": 3,
   "metadata": {},
   "outputs": [],
   "source": [
    "#Imporing input data\n",
    "samp = pd.read_csv(\"Data/sample_submission.csv\")  #The parcelid's for the testset\n",
    "props=pd.read_csv(\"Data/properties_2016.csv\",low_memory=False)\n",
    "merged_data=pd.read_csv(\"Data/InputForMachineLearning.csv\")"
   ]
  },
  {
   "cell_type": "code",
   "execution_count": 4,
   "metadata": {
    "collapsed": true
   },
   "outputs": [],
   "source": [
    "#Ignoring extra column while importing dataset\n",
    "merged_data=merged_data.drop(merged_data.columns[0], axis=1)"
   ]
  },
  {
   "cell_type": "code",
   "execution_count": 5,
   "metadata": {
    "collapsed": true
   },
   "outputs": [],
   "source": [
    "#Continuing with only numerical variables as 'string' variables need more analysis\n",
    "merged_data = merged_data.select_dtypes(exclude=[object])\n",
    "props = props.select_dtypes(exclude=[object])"
   ]
  },
  {
   "cell_type": "code",
   "execution_count": 6,
   "metadata": {
    "collapsed": true
   },
   "outputs": [],
   "source": [
    "#Inserting '-1' in place of empty values\n",
    "merged_data.fillna(-1,inplace=True)\n",
    "props.fillna(-1,inplace=True)"
   ]
  },
  {
   "cell_type": "code",
   "execution_count": 7,
   "metadata": {},
   "outputs": [],
   "source": [
    "#Creating training data\n",
    "train_x = merged_data.drop(['parcelid','logerror'],axis=1,inplace=False)\n",
    "train_y = merged_data['logerror']"
   ]
  },
  {
   "cell_type": "code",
   "execution_count": 8,
   "metadata": {
    "scrolled": true
   },
   "outputs": [],
   "source": [
    "#Renaming column name for easy understaning\n",
    "samp=samp.rename(columns={'ParcelId':'parcelid'})"
   ]
  },
  {
   "cell_type": "code",
   "execution_count": 9,
   "metadata": {
    "scrolled": true
   },
   "outputs": [],
   "source": [
    "#Creating test data\n",
    "test = samp.loc[:,['parcelid']].merge(props,how='left',left_on='parcelid',right_on='parcelid')\n",
    "test_x = test.drop(['parcelid','parcelid'],axis=1,inplace=False)"
   ]
  },
  {
   "cell_type": "code",
   "execution_count": 10,
   "metadata": {},
   "outputs": [],
   "source": [
    "test_x = test_x.drop(['airconditioningtypeid','architecturalstyletypeid','basementsqft','buildingclasstypeid','decktypeid','threequarterbathnbr','finishedfloor1squarefeet','finishedsquarefeet6','finishedsquarefeet13','finishedsquarefeet15','finishedsquarefeet50','fireplacecnt','garagecarcnt','garagetotalsqft','numberofstories','poolcnt','poolsizesum','pooltypeid10','pooltypeid2','pooltypeid7','regionidneighborhood','storytypeid','typeconstructiontypeid','yardbuildingsqft17','yardbuildingsqft26','taxdelinquencyyear'],axis=1,inplace=False)"
   ]
  },
  {
   "cell_type": "code",
   "execution_count": 11,
   "metadata": {},
   "outputs": [
    {
     "data": {
      "text/plain": [
       "GridSearchCV(cv=3, error_score='raise',\n",
       "       estimator=RandomForestRegressor(bootstrap=True, criterion='mse', max_depth=None,\n",
       "           max_features='auto', max_leaf_nodes=None,\n",
       "           min_impurity_split=1e-07, min_samples_leaf=1,\n",
       "           min_samples_split=2, min_weight_fraction_leaf=0.0,\n",
       "           n_estimators=10, n_jobs=1, oob_score=False, random_state=None,\n",
       "           verbose=0, warm_start=False),\n",
       "       fit_params={}, iid=True, n_jobs=1,\n",
       "       param_grid={'n_estimators': [5, 10, 15], 'n_jobs': [-1], 'oob_score': [False]},\n",
       "       pre_dispatch='2*n_jobs', refit=True, return_train_score=True,\n",
       "       scoring='neg_mean_absolute_error', verbose=0)"
      ]
     },
     "execution_count": 11,
     "metadata": {},
     "output_type": "execute_result"
    }
   ],
   "source": [
    "parameters = {'n_estimators':[5,10,15],'n_jobs':[-1],'oob_score':[False]}  # this can be extended\n",
    "model = RandomForestRegressor()\n",
    "grid = GridSearchCV(model,param_grid=parameters,scoring='neg_mean_absolute_error',cv=3)  \n",
    "grid.fit(train_x,train_y)"
   ]
  },
  {
   "cell_type": "code",
   "execution_count": 12,
   "metadata": {
    "scrolled": true
   },
   "outputs": [
    {
     "name": "stdout",
     "output_type": "stream",
     "text": [
      "  param_n_estimators  mean_test_score  std_test_score\n",
      "0                  5        -0.087400        0.000638\n",
      "1                 10        -0.081320        0.000289\n",
      "2                 15        -0.078687        0.000682\n"
     ]
    },
    {
     "data": {
      "image/png": "[encoded data removed]",
      "text/plain": [
       "<matplotlib.figure.Figure at 0x1fd1dbe1438>"
      ]
     },
     "metadata": {},
     "output_type": "display_data"
    }
   ],
   "source": [
    "cv_results = pd.DataFrame(grid.cv_results_)\n",
    "print(cv_results[[\"param_n_estimators\",\"mean_test_score\",\"std_test_score\"]])\n",
    "feat_imps = grid.best_estimator_.feature_importances_\n",
    "fi = pd.DataFrame.from_dict({'feat':train_x.columns,'imp':feat_imps})\n",
    "fi.set_index('feat',inplace=True,drop=True)\n",
    "fi = fi.sort_values('imp',ascending=False)\n",
    "fi.head(20).plot.bar()\n",
    "#Save the plot in Output folder\n",
    "plt.savefig(\"Output/ImportantFeatures.png\")\n",
    "plt.show()"
   ]
  },
  {
   "cell_type": "code",
   "execution_count": 13,
   "metadata": {},
   "outputs": [
    {
     "name": "stdout",
     "output_type": "stream",
     "text": [
      "LogErrorPrediction_20180128195408248478.csv\n"
     ]
    }
   ],
   "source": [
    "test_y = grid.predict(test_x)\n",
    "test_y = pd.DataFrame(test_y)\n",
    "test_y[1] = test_y[0]\n",
    "test_y[2] = test_y[0]\n",
    "test_y[3] = test_y[0]\n",
    "test_y[4] = test_y[0]\n",
    "test_y[5] = test_y[0]  #For simplicity make identical predictions for all months\n",
    "test_y.columns = [\"201610\",\"201611\",\"201612\",\"201710\",\"201711\",\"201712\"]\n",
    "submission = test_y.copy()\n",
    "submission[\"parcelid\"] = samp[\"parcelid\"].copy()\n",
    "cols = [\"parcelid\",\"201610\",\"201611\",\"201612\",\"201710\",\"201711\",\"201712\"]\n",
    "submission = submission[cols]\n",
    "filename = \"LogErrorPrediction_\" + re.sub(\"[^0-9]\", \"\",str(datetime.datetime.now())) + '.csv'\n",
    "print(filename)\n",
    "#Save the .csv file in Output folder\n",
    "submission.to_csv('Output/'+filename,index=False)"
   ]
  }
 ],
 "metadata": {
  "kernelspec": {
   "display_name": "Python 3",
   "language": "python",
   "name": "python3"
  },
  "language_info": {
   "codemirror_mode": {
    "name": "ipython",
    "version": 3
   },
   "file_extension": ".py",
   "mimetype": "text/x-python",
   "name": "python",
   "nbconvert_exporter": "python",
   "pygments_lexer": "ipython3",
   "version": "3.6.1"
  }
 },
 "nbformat": 4,
 "nbformat_minor": 2
}
